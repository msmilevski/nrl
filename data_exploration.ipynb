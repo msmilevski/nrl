{
 "cells": [
  {
   "cell_type": "markdown",
   "metadata": {},
   "source": [
    "Deleting unwanted columns"
   ]
  },
  {
   "cell_type": "code",
   "execution_count": null,
   "metadata": {},
   "outputs": [],
   "source": [
    "import numpy as np\n",
    "import pandas as pd\n",
    "train_info_path = \"dataset/avito-duplicate-ads-detection/ItemInfo_train.csv\"\n",
    "test_info_path = \"dataset/avito-duplicate-ads-detection/ItemInfo_test.csv\"\n",
    "reader = pd.read_csv(train_info_path, encoding='utf-8')\n",
    "reader.drop(['categoryID', 'title',\n",
    "       'attrsJSON', 'price', 'locationID', 'metroID', 'lat', 'lon'], axis=1, inplace=True)\n",
    "reader.to_csv(\"dataset/avito-duplicate-ads-detection/ItemInfo_train_processed.csv\", encoding='utf-8')\n",
    "test_info_path = \"dataset/avito-duplicate-ads-detection/ItemInfo_test.csv\"\n",
    "reader = pd.read_csv(test_info_path, encoding='utf-8')\n",
    "reader.drop(['categoryID', 'title',\n",
    "       'attrsJSON', 'price', 'locationID', 'metroID', 'lat', 'lon'], axis=1, inplace=True)\n",
    "reader.to_csv(\"dataset/avito-duplicate-ads-detection/ItemInfo_test_processed.csv\", encoding='utf-8')"
   ]
  },
  {
   "cell_type": "code",
   "execution_count": null,
   "metadata": {},
   "outputs": [],
   "source": [
    "train_info_path = \"dataset/avito-duplicate-ads-detection/ItemInfo_train_processed.csv\"\n",
    "reader = pd.read_csv(train_info_path, chunksize=1, encoding='utf-8')\n",
    "multiple_images = 0\n",
    "for k in reader:\n",
    "    if len(k['images_array']) > 1:\n",
    "        multiple_images += 1\n",
    "\n",
    "multiple_images"
   ]
  },
  {
   "cell_type": "code",
   "execution_count": null,
   "metadata": {},
   "outputs": [],
   "source": []
  }
 ],
 "metadata": {
  "kernelspec": {
   "display_name": "Python 3",
   "language": "python",
   "name": "python3"
  },
  "language_info": {
   "codemirror_mode": {
    "name": "ipython",
    "version": 3
   },
   "file_extension": ".py",
   "mimetype": "text/x-python",
   "name": "python",
   "nbconvert_exporter": "python",
   "pygments_lexer": "ipython3",
   "version": "3.5.3"
  }
 },
 "nbformat": 4,
 "nbformat_minor": 2
}
