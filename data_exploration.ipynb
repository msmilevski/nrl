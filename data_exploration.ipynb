{
 "cells": [
  {
   "cell_type": "code",
   "execution_count": 2,
   "metadata": {},
   "outputs": [],
   "source": [
    "import numpy as np\n",
    "import pandas as pd"
   ]
  },
  {
   "cell_type": "code",
   "execution_count": 26,
   "metadata": {},
   "outputs": [],
   "source": [
    "train_info_path = \"dataset/avito-duplicate-ads-detection/ItemInfo_train.csv\"\n",
    "test_info_path = \"dataset/avito-duplicate-ads-detection/ItemInfo_test.csv\"\n",
    "reader = pd.read_csv(train_info_path)"
   ]
  },
  {
   "cell_type": "code",
   "execution_count": 36,
   "metadata": {},
   "outputs": [],
   "source": [
    "reader.drop(['categoryID', 'title',\n",
    "       'attrsJSON', 'price', 'locationID', 'metroID', 'lat', 'lon'], axis=1, inplace=True)"
   ]
  },
  {
   "cell_type": "code",
   "execution_count": null,
   "metadata": {},
   "outputs": [],
   "source": [
    "reader.to_csv(\"dataset/avito-duplicate-ads-detection/ItemInfo_train_processed.csv\")"
   ]
  },
  {
   "cell_type": "code",
   "execution_count": 37,
   "metadata": {},
   "outputs": [],
   "source": [
    "test_info_path = \"dataset/avito-duplicate-ads-detection/ItemInfo_test.csv\"\n",
    "reader = pd.read_csv(test_info_path)\n",
    "reader.drop(['categoryID', 'title',\n",
    "       'attrsJSON', 'price', 'locationID', 'metroID', 'lat', 'lon'], axis=1, inplace=True)\n",
    "reader.to_csv(\"dataset/avito-duplicate-ads-detection/ItemInfo_test_processed.csv\")"
   ]
  }
 ],
 "metadata": {
  "kernelspec": {
   "display_name": "Python 3",
   "language": "python",
   "name": "python3"
  },
  "language_info": {
   "codemirror_mode": {
    "name": "ipython",
    "version": 3
   },
   "file_extension": ".py",
   "mimetype": "text/x-python",
   "name": "python",
   "nbconvert_exporter": "python",
   "pygments_lexer": "ipython3",
   "version": "3.5.3"
  }
 },
 "nbformat": 4,
 "nbformat_minor": 2
}
